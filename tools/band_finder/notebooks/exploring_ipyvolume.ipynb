{
 "cells": [
  {
   "cell_type": "markdown",
   "id": "sustainable-shooting",
   "metadata": {},
   "source": [
    "# Exploring ipyvolume\n",
    "\n",
    "[ipyvolume](https://ipyvolume.readthedocs.io/en/latest/index.html) may help explore differences in tile image pixel values.\n",
    "\n",
    "**Note:**  I'm using macOS 11.2.3 with Anaconda python 3.9.2 and am finding that ipyvolume 0.5.2 can display quiver plots in `jupyter notebook`, but not in `jupyter lab`.\n"
   ]
  },
  {
   "cell_type": "code",
   "execution_count": 1,
   "id": "forty-bandwidth",
   "metadata": {},
   "outputs": [
    {
     "data": {
      "text/plain": [
       "'0.5.2'"
      ]
     },
     "execution_count": 1,
     "metadata": {},
     "output_type": "execute_result"
    }
   ],
   "source": [
    "import ipyvolume\n",
    "ipyvolume.__version__"
   ]
  },
  {
   "cell_type": "code",
   "execution_count": 2,
   "id": "meaning-vegetation",
   "metadata": {},
   "outputs": [],
   "source": [
    "from pathlib import Path\n",
    "\n",
    "import numpy as np\n",
    "from skimage import color\n",
    "from skimage.util import img_as_ubyte\n",
    "import ipyvolume as ipv\n",
    "\n",
    "from band_finder.image_db import ImageDB\n",
    "from band_finder.image_cache import ImageCache\n",
    "from band_finder.bayer_to_rgb import bayer_to_rgb\n",
    "from band_finder.tile_image_grid import TileImageGrid, Edge"
   ]
  },
  {
   "cell_type": "code",
   "execution_count": 3,
   "id": "impaired-advertising",
   "metadata": {},
   "outputs": [],
   "source": [
    "examples_dir = Path(\"../examples\").resolve()\n",
    "\n",
    "db_path = list(examples_dir.glob(\"*.db\"))[0]\n",
    "assert db_path.exists()\n",
    "\n",
    "image_db = ImageDB(db_path)\n",
    "\n",
    "cache_dir = examples_dir / \"image_cache\"\n",
    "assert cache_dir.exists()\n",
    "\n",
    "image_cache = ImageCache(image_db, cache_dir)\n",
    "\n",
    "\n",
    "def get_rgb_image(image_id):\n",
    "    image = image_cache.get_image(image_id)\n",
    "    # If it is a bayer image, convert it to RGB.\n",
    "    if image_id[2:3] == \"E\":\n",
    "        image = bayer_to_rgb(image)\n",
    "    return image\n",
    "    \n",
    "def get_lab_image(image_id):        \n",
    "    return color.rgb2lab(get_rgb_image(image_id))"
   ]
  },
  {
   "cell_type": "code",
   "execution_count": 4,
   "id": "prescription-northern",
   "metadata": {},
   "outputs": [],
   "source": [
    "top_image_id = \"NRE_0015_0668275956_042ECM_N0030188NCAM00400_01_0LLJ\"\n",
    "bottom_image_id = \"NRE_0015_0668275956_042ECM_N0030188NCAM00400_05_0LLJ\"\n",
    "\n",
    "top_lab = get_lab_image(top_image_id)\n",
    "bottom_lab = get_lab_image(bottom_image_id)\n",
    "\n",
    "tiles_by_origin = {\n",
    "    (0, 0): top_lab,\n",
    "    (0, 952): bottom_lab\n",
    "}\n",
    "\n",
    "tig = TileImageGrid(tiles_by_origin)"
   ]
  },
  {
   "cell_type": "code",
   "execution_count": 5,
   "id": "planned-modem",
   "metadata": {},
   "outputs": [],
   "source": [
    "edge_of_top = tig.edge(0, 0, Edge.BOTTOM)\n",
    "edge_of_bottom = tig.edge(0, 1, Edge.TOP)"
   ]
  },
  {
   "cell_type": "code",
   "execution_count": 6,
   "id": "supreme-wesley",
   "metadata": {},
   "outputs": [],
   "source": [
    "def get_edge_pixels(edge):\n",
    "    h, w, pix = edge.shape\n",
    "    return edge.reshape((h * w, pix))\n",
    "\n",
    "src = get_edge_pixels(edge_of_bottom)\n",
    "targ = get_edge_pixels(edge_of_top)\n"
   ]
  },
  {
   "cell_type": "code",
   "execution_count": 7,
   "id": "specified-accused",
   "metadata": {},
   "outputs": [],
   "source": [
    "x = src[:, 0]\n",
    "y = src[:, 1]\n",
    "z = src[:, 2]\n",
    "\n",
    "d_edge = targ - src\n",
    "u = d_edge[:, 0]\n",
    "v = d_edge[:, 1]\n",
    "w = d_edge[:, 2]\n"
   ]
  },
  {
   "cell_type": "code",
   "execution_count": 10,
   "id": "automated-anaheim",
   "metadata": {},
   "outputs": [
    {
     "data": {
      "application/vnd.jupyter.widget-view+json": {
       "model_id": "d240c303262a4b1bbec80516976cba5b",
       "version_major": 2,
       "version_minor": 0
      },
      "text/plain": [
       "VBox(children=(Figure(camera=PerspectiveCamera(fov=46.0, position=(0.0, 0.0, 2.0), projectionMatrix=(1.0, 0.0,…"
      ]
     },
     "metadata": {},
     "output_type": "display_data"
    }
   ],
   "source": [
    "ipv.figure()\n",
    "quiver = ipv.quiver(x, y, z, u, v, w, size=0.25)\n",
    "ipv.pylab.xlim(-20, 120)\n",
    "ipv.pylab.ylim(-130, 130)\n",
    "ipv.pylab.zlim(-130, 130)\n",
    "ipv.xyzlabel(\"L\", \"a\", \"b\")\n",
    "ipv.show()"
   ]
  },
  {
   "cell_type": "code",
   "execution_count": null,
   "id": "decent-austin",
   "metadata": {},
   "outputs": [],
   "source": []
  }
 ],
 "metadata": {
  "kernelspec": {
   "display_name": "Python 3",
   "language": "python",
   "name": "python3"
  },
  "language_info": {
   "codemirror_mode": {
    "name": "ipython",
    "version": 3
   },
   "file_extension": ".py",
   "mimetype": "text/x-python",
   "name": "python",
   "nbconvert_exporter": "python",
   "pygments_lexer": "ipython3",
   "version": "3.9.2"
  }
 },
 "nbformat": 4,
 "nbformat_minor": 5
}
